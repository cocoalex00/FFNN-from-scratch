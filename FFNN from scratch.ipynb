{
 "cells": [
  {
   "cell_type": "markdown",
   "metadata": {},
   "source": [
    "# Feed Forward Neural Network from scratch"
   ]
  },
  {
   "cell_type": "markdown",
   "metadata": {},
   "source": [
    "### 1. Imports"
   ]
  },
  {
   "cell_type": "code",
   "execution_count": 2,
   "metadata": {},
   "outputs": [],
   "source": [
    "import numpy as np \n",
    "from torchvision.datasets import MNIST\n",
    "\n",
    "import matplotlib.pyplot as plt\n",
    "\n",
    "import torch\n",
    "from torch import nn\n",
    "import torch.nn.functional as F\n",
    "\n",
    "import os"
   ]
  },
  {
   "cell_type": "markdown",
   "metadata": {},
   "source": [
    "### 2. Downloading/Loading the dataset"
   ]
  },
  {
   "cell_type": "code",
   "execution_count": 3,
   "metadata": {},
   "outputs": [],
   "source": [
    "Path = \".\\Data\" # Path where the data is to be stored\n",
    "\n",
    "# Check for the existance of the directory that contains the data in order to download or just load it \n",
    "if os.path.isdir(Path):\n",
    "    Train_data = MNIST(root = Path, train = True, download = False)\n",
    "    Test_data = MNIST(root = Path, train = False, download = False)\n",
    "else: \n",
    "    Train_data = MNIST(root = Path, train = True, download = True)\n",
    "    Test_data = MNIST(root = Path, train = False, download = True)"
   ]
  },
  {
   "cell_type": "markdown",
   "metadata": {},
   "source": [
    "### 3. Preprocessing the dataset"
   ]
  },
  {
   "cell_type": "code",
   "execution_count": 4,
   "metadata": {},
   "outputs": [],
   "source": [
    "# Create lists that will contain all the data \n",
    "x_train = []\n",
    "y_train = []\n",
    "\n",
    "x_test = []\n",
    "y_test = []\n",
    "\n",
    "for x,y in Train_data:\n",
    "    x_train.append(np.array(x, dtype= np.float32).reshape(28*28))\n",
    "    y_train.append(np.array(y))\n",
    "    \n",
    "    \n",
    "for x,y in Test_data:\n",
    "    x_test.append(np.array(x, dtype= np.float32).reshape(28*28))\n",
    "    y_test.append(np.array(y))\n",
    "\n",
    "\n"
   ]
  },
  {
   "cell_type": "code",
   "execution_count": 5,
   "metadata": {},
   "outputs": [
    {
     "name": "stdout",
     "output_type": "stream",
     "text": [
      "5\n"
     ]
    },
    {
     "data": {
      "image/png": "[encoded data removed]",
      "text/plain": [
       "<Figure size 432x288 with 1 Axes>"
      ]
     },
     "metadata": {
      "needs_background": "light"
     },
     "output_type": "display_data"
    }
   ],
   "source": [
    "# Showing one training example \n",
    "plt.imshow(x_train[0].reshape(28,28), cmap = \"gray\")\n",
    "print(y_train[0])"
   ]
  },
  {
   "cell_type": "markdown",
   "metadata": {},
   "source": [
    "### 4. Network class (with PyTorch)"
   ]
  },
  {
   "cell_type": "code",
   "execution_count": 138,
   "metadata": {},
   "outputs": [],
   "source": [
    "class sapeNet(nn.Module):\n",
    "    \n",
    "    def __init__(self):\n",
    "        super(sapeNet,self).__init__()\n",
    "        self.hidden_1 = nn.Linear(28*28, 100)\n",
    "        self.hidden_2 = nn.Linear(100, 10)\n",
    "        \n",
    "    def forward(self,x):\n",
    "        x = F.relu(self.hidden_1(x))\n",
    "        x = self.hidden_2(x)\n",
    "        x = F.softmax(x,dim =0)\n",
    "        return x \n",
    "        "
   ]
  },
  {
   "cell_type": "code",
   "execution_count": 95,
   "metadata": {},
   "outputs": [
    {
     "name": "stdout",
     "output_type": "stream",
     "text": [
      "(784,)\n"
     ]
    }
   ],
   "source": [
    "bob = sapeNet()\n",
    "l1w = bob.hidden_1.weight.detach().numpy()\n",
    "print(l1w[0].shape)"
   ]
  },
  {
   "cell_type": "markdown",
   "metadata": {},
   "source": [
    "# -- FFNN (with Numpy)--"
   ]
  },
  {
   "cell_type": "markdown",
   "metadata": {},
   "source": [
    "### 5. Activations and lossess"
   ]
  },
  {
   "cell_type": "code",
   "execution_count": 152,
   "metadata": {},
   "outputs": [],
   "source": [
    "# ---- Activations ------------------------------------\n",
    "# Definition of the ReLu Activation fuction\n",
    "def ReLu(x):\n",
    "    return np.maximum(0,x)\n",
    "\n",
    "# Definition of ReLu's derivative\n",
    "def DerReLu(x):\n",
    "    if x > 0:\n",
    "        return 1\n",
    "    elif x < 0:\n",
    "        return 0\n",
    "    \n",
    "# Definition of the Softmax activation function \n",
    "def Softmax(x):\n",
    "    return np.exp(x) / np.sum(np.exp(x))\n",
    "\n",
    "# Definition of Softmax's derivative\n",
    "def DerSoftmax(x):\n",
    "    return Softmax(x) * [1-Softmax(x)]\n",
    "\n",
    "\n",
    "\n",
    "\n",
    "# ---- Losses ------------------------------------"
   ]
  },
  {
   "cell_type": "markdown",
   "metadata": {},
   "source": [
    "### 6. Network Class (with Numpy)"
   ]
  },
  {
   "cell_type": "code",
   "execution_count": 154,
   "metadata": {},
   "outputs": [],
   "source": [
    "class FFNN():\n",
    "    \n",
    "    def __init__(self):\n",
    "        super(FFNN,self).__init__()\n",
    "        # Shapes are transposed in pytorch, that is why they look different here\n",
    "        \n",
    "        self.hidden1 = np.random.rand(100,28*28) # Weights of the first hidden layer\n",
    "        self.bias1 = np.random.rand(100) # Biases of the first hidden layer \n",
    "        self.hidden2 = np.random.rand(10,100) # Weight of the output layer \n",
    "        self.bias2 = np.random.rand(10) # Biases of the output layer \n",
    "    \n",
    "    # Forward pass\n",
    "    def forward(self,x):\n",
    "        x = ReLu(np.add(np.dot(input,self.hidden1.T),self.bias1)) \n",
    "        out = Softmax(np.add(np.dot(x,self.hidden2.T), self.bias2)) \n",
    "        return out"
   ]
  },
  {
   "cell_type": "code",
   "execution_count": 156,
   "metadata": {},
   "outputs": [],
   "source": [
    "sape = FFNN()\n",
    "sape2 = sapeNet()\n",
    "input = np.array(np.random.rand(28*28),dtype = np.float32)\n",
    "\n",
    "sape.hidden1 = sape2.hidden_1.weight.detach().numpy()\n",
    "sape.bias1 = sape2.hidden_1.bias.detach().numpy()\n",
    "sape.hidden2 = sape2.hidden_2.weight.detach().numpy()\n",
    "sape.bias2 = sape2.hidden_2.bias.detach().numpy()"
   ]
  },
  {
   "cell_type": "code",
   "execution_count": 158,
   "metadata": {},
   "outputs": [
    {
     "name": "stdout",
     "output_type": "stream",
     "text": [
      "[0.09347402 0.14185049 0.08750522 0.08382166 0.09849486 0.11416717\n",
      " 0.10490382 0.1132056  0.07958284 0.08299431]\n",
      "[0.09347402 0.14185049 0.08750523 0.08382166 0.09849486 0.11416715\n",
      " 0.1049038  0.1132056  0.07958285 0.08299431]\n",
      "1.0\n"
     ]
    }
   ],
   "source": [
    "print(sape.forward(input))\n",
    "print(sape2(torch.from_numpy(input)).detach().numpy())\n",
    "print(np.sum(sape.forward(input)))"
   ]
  },
  {
   "cell_type": "code",
   "execution_count": null,
   "metadata": {},
   "outputs": [],
   "source": []
  }
 ],
 "metadata": {
  "kernelspec": {
   "display_name": "Python 3",
   "language": "python",
   "name": "python3"
  },
  "language_info": {
   "codemirror_mode": {
    "name": "ipython",
    "version": 3
   },
   "file_extension": ".py",
   "mimetype": "text/x-python",
   "name": "python",
   "nbconvert_exporter": "python",
   "pygments_lexer": "ipython3",
   "version": "3.9.1"
  }
 },
 "nbformat": 4,
 "nbformat_minor": 4
}
